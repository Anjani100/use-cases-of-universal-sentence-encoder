{
  "nbformat": 4,
  "nbformat_minor": 0,
  "metadata": {
    "colab": {
      "name": "unsupervised_extractive_summarization.ipynb",
      "version": "0.3.2",
      "provenance": [],
      "include_colab_link": true
    },
    "kernelspec": {
      "name": "python3",
      "display_name": "Python 3"
    }
  },
  "cells": [
    {
      "cell_type": "markdown",
      "metadata": {
        "id": "view-in-github",
        "colab_type": "text"
      },
      "source": [
        "<a href=\"https://colab.research.google.com/github/marucha80t/application_of_universal_sentence_encoder/blob/master/unsupervised_extractive_summarization.ipynb\" target=\"_parent\"><img src=\"https://colab.research.google.com/assets/colab-badge.svg\" alt=\"Open In Colab\"/></a>"
      ]
    },
    {
      "cell_type": "markdown",
      "metadata": {
        "id": "DCjc378FcBoO",
        "colab_type": "text"
      },
      "source": [
        "# Unsupervised Extractive Summarization with EmbedRank\n",
        "## Overview\n",
        "This notebook demonstrates EmbedRank, which is an unsupervised keyphrase extraction model [1]. Sentence embeddings obtained from the Universal Sentence Encoder are used to calculate each sentence's importance.\n"
      ]
    },
    {
      "cell_type": "markdown",
      "metadata": {
        "id": "0KMTzc5smO6g",
        "colab_type": "text"
      },
      "source": [
        "## Settings"
      ]
    },
    {
      "cell_type": "code",
      "metadata": {
        "id": "lAArZa3rcNmV",
        "colab_type": "code",
        "cellView": "form",
        "colab": {
          "base_uri": "https://localhost:8080/",
          "height": 193
        },
        "outputId": "32fa631b-0ee5-4d20-a0d6-5ff95c5fe9c5"
      },
      "source": [
        "#@title Setup Environment\n",
        "!pip install --quiet tensorflow==1.14.0\n",
        "!pip install --quiet tensorflow_hub==0.5.0\n",
        "!pip install --quiet tf_sentencepiece==0.1.82.1\n",
        "!pip install --quiet googletrans==2.4.0\n",
        "!pip install --quiet japanize-matplotlib==1.0.4\n",
        "!pip install --quiet mecab-python3\n",
        "!pip install --quiet https://github.com/megagonlabs/ginza/releases/download/v1.0.2/ja_ginza_nopn-1.0.2.tgz\n",
        "!pip install --quiet https://github.com/explosion/spacy-models/releases/download/en_core_web_sm-2.1.0/en_core_web_sm-2.1.0.tar.gz\n",
        "    \n",
        "!ln -s /usr/local/lib/python3.6/dist-packages/ja_ginza_nopn /usr/local/lib/python3.6/dist-packages/spacy/data/ja_ginza_nopn"
      ],
      "execution_count": 1,
      "outputs": [
        {
          "output_type": "stream",
          "text": [
            "\u001b[K     |████████████████████████████████| 2.8MB 2.8MB/s \n",
            "\u001b[?25h  Building wheel for googletrans (setup.py) ... \u001b[?25l\u001b[?25hdone\n",
            "\u001b[K     |████████████████████████████████| 4.1MB 2.8MB/s \n",
            "\u001b[?25h  Building wheel for japanize-matplotlib (setup.py) ... \u001b[?25l\u001b[?25hdone\n",
            "\u001b[K     |████████████████████████████████| 15.9MB 2.8MB/s \n",
            "\u001b[K     |████████████████████████████████| 122.4MB 1.1MB/s \n",
            "\u001b[K     |████████████████████████████████| 27.7MB 1.8MB/s \n",
            "\u001b[?25h  Building wheel for ja-ginza-nopn (setup.py) ... \u001b[?25l\u001b[?25hdone\n",
            "\u001b[K     |████████████████████████████████| 11.1MB 4.0MB/s \n",
            "\u001b[?25h  Building wheel for en-core-web-sm (setup.py) ... \u001b[?25l\u001b[?25hdone\n"
          ],
          "name": "stdout"
        }
      ]
    },
    {
      "cell_type": "code",
      "metadata": {
        "id": "wf8LAa_jdESo",
        "colab_type": "code",
        "cellView": "form",
        "colab": {
          "base_uri": "https://localhost:8080/",
          "height": 90
        },
        "outputId": "62f435fa-33dc-426d-a8f1-72e17edade2a"
      },
      "source": [
        "#@title Setup common imports and functions\n",
        "import tensorflow as tf\n",
        "import tensorflow_hub as hub\n",
        "import tf_sentencepiece\n",
        "from googletrans import Translator\n",
        "import numpy as np\n",
        "import matplotlib.pyplot as plt\n",
        "import japanize_matplotlib\n",
        "import seaborn as sns\n",
        "import spacy\n",
        "from IPython.display import HTML\n",
        "from sklearn import manifold\n",
        "%matplotlib inline\n",
        "\n",
        "\n",
        "def ncossim(embs_1, embs_2, axis=0):\n",
        "    sims = np.inner(embs_1, embs_2)\n",
        "    std = np.std(sims, axis=axis)\n",
        "    ex = np.mean((sims-np.min(sims, axis=axis))/np.max(sims, axis=axis), axis=axis)\n",
        "    return 0.5 + (sims-ex)/std\n",
        "\n",
        "\n",
        "def mmr(doc_emb, cand_embs, key_embs):\n",
        "    param = 0.5\n",
        "    scores = param * ncossim(cand_embs, doc_emb, axis=0)\n",
        "    if key_embs is not None:\n",
        "        scores -= (1-param) * np.max(ncossim(cand_embs, key_embs), axis=1).reshape(scores.shape[0], -1)\n",
        "    return scores\n",
        "\n",
        "\n",
        "def embedrank(doc_emb, sent_embs, n_keys):\n",
        "    assert 0 < n_keys, 'Please `key_size` value set more than 0'\n",
        "    assert n_keys < len(sent_embs), 'Please `key_size` value set lower than `#sentences`'\n",
        "    sims = np.inner(doc_emb, sent_embs).reshape(-1)\n",
        "    return np.argsort(-sims)[:n_keys]\n",
        "\n",
        "\n",
        "def embedrankpp(doc_emb, sent_embs, n_keys):\n",
        "    assert 0 < n_keys, 'Please `key_size` value set more than 0'\n",
        "    assert n_keys < len(sent_embs), 'Please `key_size` value set lower than `#sentences`'\n",
        "    cand_idx = list(range(len(sent_embs)))\n",
        "    key_idx = []\n",
        "    while len(key_idx) < n_keys:\n",
        "        cand_embs = sent_embs[cand_idx]\n",
        "        key_embs = sent_embs[key_idx] if len(key_idx) > 0 else None\n",
        "        scores = mmr(doc_emb, cand_embs, key_embs)\n",
        "        key_idx.append(cand_idx[np.argmax(scores)])\n",
        "        cand_idx.pop(np.argmax(scores))\n",
        "    return key_idx"
      ],
      "execution_count": 2,
      "outputs": [
        {
          "output_type": "stream",
          "text": [
            "WARNING: Logging before flag parsing goes to stderr.\n",
            "W0729 06:17:28.036733 140591497373568 deprecation_wrapper.py:119] From /usr/local/lib/python3.6/dist-packages/tf_sentencepiece/sentencepiece_processor_ops.py:259: The name tf.NotDifferentiable is deprecated. Please use tf.no_gradient instead.\n",
            "\n"
          ],
          "name": "stderr"
        }
      ]
    },
    {
      "cell_type": "markdown",
      "metadata": {
        "id": "U3rPTIUamWbH",
        "colab_type": "text"
      },
      "source": [
        "## Extractive Summarization"
      ]
    },
    {
      "cell_type": "code",
      "metadata": {
        "id": "TAS2PHpmdR3z",
        "colab_type": "code",
        "cellView": "form",
        "colab": {}
      },
      "source": [
        "#@title Build a model\n",
        "encoder = 'universal-sentence-encoder-xling-many' #@param [\"universal-sentence-encoder-multilingual\", \"multilingual-large\", \"universal-sentence-encoder-xling-many\"]\n",
        "if encoder == 'universal-sentence-encoder-xling-many':\n",
        "    module_url = \"https://tfhub.dev/google/universal-sentence-encoder-xling-many/1\"\n",
        "elif encoder == 'universal-sentence-encoder-multilingual':\n",
        "    module_url = 'https://tfhub.dev/google/universal-sentence-encoder-multilingual/1'\n",
        "elif encoder == 'universal-sentence-encoder-multilingual-large':\n",
        "    module_url = 'https://tfhub.dev/google/universal-sentence-encoder-multilingual-large/1'\n",
        "\n",
        "\n",
        "g = tf.Graph()\n",
        "with g.as_default():\n",
        "    text_input = tf.placeholder(dtype=tf.string, shape=[None])\n",
        "    xling_embed = hub.Module(module_url)\n",
        "    embedded_text = xling_embed(text_input)\n",
        "    init_options = tf.group([tf.global_variables_initializer(), tf.tables_initializer()])\n",
        "g.finalize()\n",
        "\n",
        "session = tf.Session(graph=g)\n",
        "session.run(init_options)\n",
        "\n",
        "    \n",
        "ranker = 'EmbedRank++' #@param [\"EmbedRank\", \"EmbedRank++\"]\n",
        "rank_fn = embedrank if ranker == \"EmbedRank\" else embedrankpp"
      ],
      "execution_count": 0,
      "outputs": []
    },
    {
      "cell_type": "code",
      "metadata": {
        "id": "GVZPWVlsdnFn",
        "colab_type": "code",
        "colab": {}
      },
      "source": [
        "# Document from Wikipedia\n",
        "doc = [\"\"\"\n",
        "自動要約（じどうようやく）は、コンピュータプログラムを用いて、文書からその要約を作成する処理である。\n",
        "作成される要約は、要約の対象となる文書の最も重要な要素のみを残しているべきであり、いわゆる情報のオーバーロードに伴い自動要約に対する関心も増している。\n",
        "首尾一貫した要約を作成するためには要約の長さや書き方のスタイル、文法などといった点が考慮されなければならない。\n",
        "自動要約の応用先の1つはGoogleなどの検索エンジンであるが、もちろん独立した1つの要約プログラムといったものもありうる。\n",
        "自動要約は、要約の目的や要約の対象とする文書の数、要約の方法などによっていくつかの種類に分類することができる。\n",
        "抽出的要約は、要約の対象となる文書に含まれる単語や句、文といった単位をうまく抽出し、それらを組み合わせることで要約を作成する。\n",
        "一方、生成的要約は、文書を一度何らかの中間表現（あるいは意味表現）に変換し、この中間表現を元に自然言語生成の技術を用いて要約を作成する。\n",
        "そのため、生成的要約によって作成された要約には元の文書に含まれていない表現が含まれることもありうる。\n",
        "生成的要約には、文書を中間表現に正確に変換すること（すなわち、精度の高い自然言語理解を実現すること）、そこから要約を生成するための自然言語生成器が必要になるといった問題が存在するため、もっぱら研究の焦点は抽出的要約にあてられている。\n",
        "\"\"\"]\n"
      ],
      "execution_count": 0,
      "outputs": []
    },
    {
      "cell_type": "code",
      "metadata": {
        "id": "8nSSOvQZuQZj",
        "colab_type": "code",
        "cellView": "form",
        "outputId": "5fef4fc1-7999-4aa8-81c8-82337588c98d",
        "colab": {
          "base_uri": "https://localhost:8080/",
          "height": 52
        }
      },
      "source": [
        "#@title Language detection and sentence segmentation\n",
        "translator = Translator()\n",
        "detected_lang = translator.detect(''.join(doc))\n",
        "\n",
        "assert detected_lang.lang in ['ja', 'en'], 'Please, input Japanese text or English text'\n",
        "if detected_lang.lang == 'ja':\n",
        "    tokenizer = spacy.load('ja_ginza_nopn')\n",
        "elif detected_lang.lang == 'en':\n",
        "    tokenizer = spacy.load('en_core_web_sm')\n",
        "\n",
        "sents = [str(s).replace('\\n', '') for s in tokenizer(''.join(doc)).sents]\n",
        "print(f'Language: {detected_lang.lang}')\n",
        "print(f'#sentences: {len(sents)}')"
      ],
      "execution_count": 5,
      "outputs": [
        {
          "output_type": "stream",
          "text": [
            "Language: ja\n",
            "#sentences: 9\n"
          ],
          "name": "stdout"
        }
      ]
    },
    {
      "cell_type": "code",
      "metadata": {
        "id": "-NCV-SnE1Svj",
        "colab_type": "code",
        "cellView": "form",
        "colab": {}
      },
      "source": [
        "#@title Model run\n",
        "key_size = 3 #@param {type:\"integer\"}\n",
        "\n",
        "# Embedding\n",
        "doc_emb= session.run(embedded_text, feed_dict={text_input: doc})\n",
        "sent_embs= session.run(embedded_text, feed_dict={text_input: sents})\n",
        "\n",
        "# Ranking\n",
        "keys = rank_fn(doc_emb, sent_embs, key_size)"
      ],
      "execution_count": 0,
      "outputs": []
    },
    {
      "cell_type": "code",
      "metadata": {
        "id": "b5HKVZd8s4ct",
        "colab_type": "code",
        "cellView": "form",
        "colab": {
          "base_uri": "https://localhost:8080/",
          "height": 168
        },
        "outputId": "6aece8fb-d37a-4117-b41e-73c07f72700d"
      },
      "source": [
        "#@title Display\n",
        "display_sents = []\n",
        "for i, s in enumerate(sents):\n",
        "    line = '<font color=\"#CD5C5C\"><strong>' + s + '</strong></font>' if i in keys else s\n",
        "    display_sents.append(line)\n",
        "HTML(''.join(display_sents))\n"
      ],
      "execution_count": 7,
      "outputs": [
        {
          "output_type": "execute_result",
          "data": {
            "text/html": [
              "<font color=\"#CD5C5C\"><strong> 自動要約（じどうようやく）は、コンピュータプログラムを用いて、文書からその要約を作成する処理である。</strong></font>作成される要約は、要約の対象となる文書の最も重要な要素のみを残しているべきであり、いわゆる情報のオーバーロードに伴い自動要約に対する関心も増している。<font color=\"#CD5C5C\"><strong>首尾一貫した要約を作成するためには要約の長さや書き方のスタイル、文法などといった点が考慮されなければならない。</strong></font>自動要約の応用先の1つはGoogleなどの検索エンジンであるが、もちろん独立した1つの要約プログラムといったものもありうる。自動要約は、要約の目的や要約の対象とする文書の数、要約の方法などによっていくつかの種類に分類することができる。<font color=\"#CD5C5C\"><strong>抽出的要約は、要約の対象となる文書に含まれる単語や句、文といった単位をうまく抽出し、それらを組み合わせることで要約を作成する。</strong></font>一方、生成的要約は、文書を一度何らかの中間表現（あるいは意味表現）に変換し、この中間表現を元に自然言語生成の技術を用いて要約を作成する。そのため、生成的要約によって作成された要約には元の文書に含まれていない表現が含まれることもありうる。生成的要約には、文書を中間表現に正確に変換すること（すなわち、精度の高い自然言語理解を実現すること）、そこから要約を生成するための自然言語生成器が必要になるといった問題が存在するため、もっぱら研究の焦点は抽出的要約にあてられている。"
            ],
            "text/plain": [
              "<IPython.core.display.HTML object>"
            ]
          },
          "metadata": {
            "tags": []
          },
          "execution_count": 7
        }
      ]
    },
    {
      "cell_type": "code",
      "metadata": {
        "id": "iHodbHwzkDSK",
        "colab_type": "code",
        "cellView": "form",
        "outputId": "cbf33d9d-0a79-4a01-81f0-9ce36519f9ff",
        "colab": {
          "base_uri": "https://localhost:8080/",
          "height": 462
        }
      },
      "source": [
        "#@title Visualize sentence embeddings\n",
        "\n",
        "# print sentences\n",
        "print('id' + '\\t' + 'sentence')\n",
        "for i, sent in enumerate(sents, 1):\n",
        "    if len(sent) < 50:\n",
        "        print(str(i) + '\\t' + sent)\n",
        "    else:\n",
        "        print(str(i) + '\\t' + sent[:50] + '...')\n",
        "print('')\n",
        "\n",
        "# MDS\n",
        "mds = manifold.MDS(n_components=2, dissimilarity=\"euclidean\")\n",
        "embs = np.concatenate((doc_emb, sent_embs), 0)\n",
        "pns = mds.fit_transform(embs)\n",
        "fixed_pns = pns - pns[0]\n",
        "\n",
        "# plot\n",
        "keys_idx = [idx + 1 for idx in keys]\n",
        "other_idx = [idx for idx in range(1, len(sents)+1) if idx not in keys_idx]\n",
        "plt.scatter(fixed_pns[0,0], fixed_pns[0,1], color='green',  marker='*', s=150, label='document')\n",
        "plt.scatter(fixed_pns[keys_idx,0], fixed_pns[keys_idx, 1], color='blue', label='key sentences')\n",
        "plt.scatter(fixed_pns[other_idx,0], fixed_pns[other_idx, 1], color='white', edgecolors='black', label='other sentences')\n",
        "plt.xlim(-1.5, 1.5)\n",
        "plt.ylim(-1.5, 1.5)\n",
        "\n",
        "for i,(x,y) in enumerate(fixed_pns[1:], 1):\n",
        "    plt.annotate(str(i), (x+0.02,y+0.02))\n",
        "    \n",
        "plt.legend()\n",
        "plt.show()\n"
      ],
      "execution_count": 8,
      "outputs": [
        {
          "output_type": "stream",
          "text": [
            "id\tsentence\n",
            "1\t 自動要約（じどうようやく）は、コンピュータプログラムを用いて、文書からその要約を作成する処理である...\n",
            "2\t作成される要約は、要約の対象となる文書の最も重要な要素のみを残しているべきであり、いわゆる情報のオー...\n",
            "3\t首尾一貫した要約を作成するためには要約の長さや書き方のスタイル、文法などといった点が考慮されなければ...\n",
            "4\t自動要約の応用先の1つはGoogleなどの検索エンジンであるが、もちろん独立した1つの要約プログラム...\n",
            "5\t自動要約は、要約の目的や要約の対象とする文書の数、要約の方法などによっていくつかの種類に分類すること...\n",
            "6\t抽出的要約は、要約の対象となる文書に含まれる単語や句、文といった単位をうまく抽出し、それらを組み合わ...\n",
            "7\t一方、生成的要約は、文書を一度何らかの中間表現（あるいは意味表現）に変換し、この中間表現を元に自然言...\n",
            "8\tそのため、生成的要約によって作成された要約には元の文書に含まれていない表現が含まれることもありうる。...\n",
            "9\t生成的要約には、文書を中間表現に正確に変換すること（すなわち、精度の高い自然言語理解を実現すること）...\n",
            "\n"
          ],
          "name": "stdout"
        },
        {
          "output_type": "display_data",
          "data": {
            "image/png": "[encoded data removed]",
            "text/plain": [
              "<Figure size 432x288 with 1 Axes>"
            ]
          },
          "metadata": {
            "tags": []
          }
        }
      ]
    },
    {
      "cell_type": "markdown",
      "metadata": {
        "id": "jlmXgAH9YlC9",
        "colab_type": "text"
      },
      "source": [
        "## References\n",
        "1. [Kamil Bennani-Smires, Claudiu Musat, Andreaa Hossmann, Michael Baeriswyl, Martin Jaggi. Simple Unsupervised Keyphrase Extraction using Sentence Embeddings. CoNLL 2018, pages 221–229](https://www.aclweb.org/anthology/K18-1022)\n",
        "\n",
        "\n"
      ]
    }
  ]
}